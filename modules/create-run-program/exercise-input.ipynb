{
 "cells": [
  {
   "cell_type": "markdown",
   "metadata": {},
   "source": [
    "The senior officer looks really pleased. She tries the first program, mumbles \"good good\" to herself, and then tries the second one, the unit convert. Then she's like,\n",
    "\n",
    "Senior Officer> Wait, the calculation checks out, but I have to go into the code and change the parsec value every time. No, you need to make this more flexible. Either let me specify parsec as a command-line argument or a dialog, I don't care, but it needs to be flexible.\n",
    "\n",
    "You> Of course, will do.\n",
    "\n",
    "You just learned about both these approaches, you'll try one and then the other, and let's see which one she picks.\n",
    "\n",
    "## Command line\n",
    "\n",
    "You have the converter program you've already written, and you need to modify it so that it can take output from the command line. You need to modify how the `parsec` variable is assigned its value.\n",
    "\n",
    "Here's the code:"
   ]
  },
  {
   "cell_type": "code",
   "execution_count": null,
   "metadata": {},
   "outputs": [],
   "source": [
    "parsec = 11\n",
    "lightyears = 3.26156 * parsec\n",
    "\n",
    "print(str(parsec) + \" parsec, is \" + str(lightyears) + \" lightyears\")"
   ]
  },
  {
   "cell_type": "markdown",
   "metadata": {},
   "source": [
    "> [!TIP]\n",
    "> Remember how you can use `sys.argv` to capture input from the command line. Also don't forget to convert the user input to a number.\n",
    "\n",
    "## Input dialog\n",
    "\n",
    "Another approach is to ask the user for input. A way to do is to use the `input()` function. Now, rewrite the program to use said function:"
   ]
  },
  {
   "cell_type": "code",
   "execution_count": null,
   "metadata": {},
   "outputs": [],
   "source": [
    "parsec = 11\n",
    "lightyears = 3.26156 * parsec\n",
    "\n",
    "print(str(parsec) + \" parsec, is \" + str(lightyears) + \" lightyears\")"
   ]
  },
  {
   "cell_type": "markdown",
   "metadata": {},
   "source": [
    "## Solutions\n",
    "\n",
    "Here's the solutions. The first command line based solution looks like so:"
   ]
  },
  {
   "cell_type": "code",
   "execution_count": null,
   "metadata": {},
   "outputs": [],
   "source": [
    "import  sys\n",
    "parsec = int(sys.argv[1])\n",
    "lightyears = 3.26156 * parsec\n",
    "\n",
    "print(str(parsec) + \" parsec, is \" + str(lightyears) + \" lightyears\")"
   ]
  },
  {
   "cell_type": "markdown",
   "metadata": {},
   "source": [
    "To run it, press play on the following code:"
   ]
  },
  {
   "cell_type": "code",
   "execution_count": 1,
   "metadata": {},
   "outputs": [
    {
     "name": "stdout",
     "output_type": "stream",
     "text": [
      "10 parsec, is 32.6156 lightyears\n"
     ]
    }
   ],
   "source": [
    "! python3 5-exercise-input.py 10"
   ]
  },
  {
   "cell_type": "markdown",
   "metadata": {},
   "source": [
    "The second solution, this time using the `input()` function looks like so:"
   ]
  },
  {
   "cell_type": "code",
   "execution_count": null,
   "metadata": {},
   "outputs": [],
   "source": [
    "parsec_input = input(\"Provide input in parsec: \")\n",
    "parsec = int(parsec_input)\n",
    "lightyears = 3.26156 * parsec\n",
    "\n",
    "print(str(parsec) + \" parsec, is \" + str(lightyears) + \" lightyears\")"
   ]
  },
  {
   "cell_type": "markdown",
   "metadata": {},
   "source": [
    "## Epilogue\n",
    "\n",
    "Senior officer> Let me see what you got for me. Mumbles to herself, \"Command line, mm-hmm, yea that works. What's this user input, yep, I like that one too.\"  Good work cadet, I prefer the command-line argument version. Keep it up, cadet. :)\n",
    "\n",
    "You> To yourself, yes, I've earned some time on the holo deck, slowly sneaks away before you are given another task."
   ]
  }
 ],
 "metadata": {
  "interpreter": {
   "hash": "aee8b7b246df8f9039afb4144a1f6fd8d2ca17a180786b69acc140d282b71a49"
  },
  "kernelspec": {
      "name": "conda-env-py37_default-py",
      "language": "python",
      "display_name": "py37_default"
  },
  "language_info": {
   "codemirror_mode": {
    "name": "ipython",
    "version": 3
   },
   "file_extension": ".py",
   "mimetype": "text/x-python",
   "name": "python",
   "nbconvert_exporter": "python",
   "pygments_lexer": "ipython3",
   "version": "3.9.2"
  },
  "orig_nbformat": 4
 },
 "nbformat": 4,
 "nbformat_minor": 2
}
