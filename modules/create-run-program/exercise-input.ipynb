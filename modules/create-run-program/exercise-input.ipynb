{
 "cells": [
  {
   "cell_type": "markdown",
   "source": [
    "The senior officer looks really pleased. She tries the first program, mumbles \"good good\" to herself and then tries the second one, the unit convert. Then she's like,\n",
    "\n",
    "Senior Officer> wait, the calculation checks out, but I have to go into the code and change the parsec value every time. No, you need to make this more flexible. Either let me specify parsec as a command line argument or a dialog, I don't care, but it needs to be flexible.\n",
    "\n",
    "You> Of course, will do.\n",
    "\n",
    "You just learned about both these approaches, you'll try one and then the other and lets see which one she picks.\n",
    "\n",
    "## Command line\n",
    "\n",
    "You have the converter program you've already written, and you need to modify it so that it can take output from the command line. You need to modify how the `parsec` variable is assigned its value.\n",
    "\n",
    "Here's the code:"
   ],
   "metadata": {}
  },
  {
   "cell_type": "code",
   "execution_count": null,
   "source": [
    "parsec = 11\n",
    "lightyears = 3.26156 * parsec\n",
    "\n",
    "print(str(parsec) + \" parsec, is \" + str(lightyears) + \" lightyears\")"
   ],
   "outputs": [],
   "metadata": {}
  },
  {
   "cell_type": "markdown",
   "source": [
    "> [!TIP]\n",
    "> Remember how you can use `sys.argv` to capture input from the command line. Also don't forget to convert the user input to a number.\n",
    "\n",
    "## Input dialog\n",
    "\n",
    "Another approach is to ask the user for input. A way to do is to use the `input()` function. Now, rewrite the program to use said function:"
   ],
   "metadata": {}
  },
  {
   "cell_type": "code",
   "execution_count": null,
   "source": [
    "parsec = 11\n",
    "lightyears = 3.26156 * parsec\n",
    "\n",
    "print(str(parsec) + \" parsec, is \" + str(lightyears) + \" lightyears\")"
   ],
   "outputs": [],
   "metadata": {}
  },
  {
   "cell_type": "markdown",
   "source": [
    "## Solutions\n",
    "\n",
    "Here's the solutions. The first command line based solution looks like so:"
   ],
   "metadata": {}
  },
  {
   "cell_type": "code",
   "execution_count": null,
   "source": [
    "import  sys\n",
    "parsec = int(sys.argv[1])\n",
    "lightyears = 3.26156 * parsec\n",
    "\n",
    "print(str(parsec) + \" parsec, is \" + str(lightyears) + \" lightyears\")"
   ],
   "outputs": [],
   "metadata": {}
  },
  {
   "cell_type": "markdown",
   "source": [
    "To run it, press play on the below code"
   ],
   "metadata": {}
  },
  {
   "cell_type": "code",
   "execution_count": 1,
   "source": [
    "! python3 5-exercise-input.py 10"
   ],
   "outputs": [
    {
     "output_type": "stream",
     "name": "stdout",
     "text": [
      "10 parsec, is 32.6156 lightyears\n"
     ]
    }
   ],
   "metadata": {}
  },
  {
   "cell_type": "markdown",
   "source": [
    "The second solution, this time using the `input()` function looks like so:"
   ],
   "metadata": {}
  },
  {
   "cell_type": "code",
   "execution_count": null,
   "source": [
    "parsec_input = input(\"Provide input in parsec: \")\n",
    "parsec = int(parsec_input)\n",
    "lightyears = 3.26156 * parsec\n",
    "\n",
    "print(str(parsec) + \" parsec, is \" + str(lightyears) + \" lightyears\")"
   ],
   "outputs": [],
   "metadata": {}
  },
  {
   "cell_type": "markdown",
   "source": [
    "## Epilogue\n",
    "\n",
    "Senior officer> let me see what you got for me. Mumbles to herself, command line, mm hmm yea that works. What's this user input, yep, I like that one too.  Good work cadet, I prefer the command line argument version, keep it up cadet :)\n",
    "\n",
    "You> To yourself, yes, I've earned some time on the holo deck, slowly sneaks away before you are given another task."
   ],
   "metadata": {}
  }
 ],
 "metadata": {
  "orig_nbformat": 4,
  "language_info": {
   "name": "python",
   "version": "3.9.2",
   "mimetype": "text/x-python",
   "codemirror_mode": {
    "name": "ipython",
    "version": 3
   },
   "pygments_lexer": "ipython3",
   "nbconvert_exporter": "python",
   "file_extension": ".py"
  },
  "kernelspec": {
   "name": "python3",
   "display_name": "Python 3.9.2 64-bit"
  },
  "interpreter": {
   "hash": "aee8b7b246df8f9039afb4144a1f6fd8d2ca17a180786b69acc140d282b71a49"
  }
 },
 "nbformat": 4,
 "nbformat_minor": 2
}