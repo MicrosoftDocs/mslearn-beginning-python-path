{
 "cells": [
  {
   "cell_type": "markdown",
   "source": [
    "Senior officer> Cadet? \n",
    "\n",
    "You> Yes, ma'am?\n",
    "\n",
    "Senior officer> Can you build me a program showing me the date. The ship's computer didn't come with much in terms of utility programs, so we need to create the ones we need. Can I trust you with this?\n",
    "\n",
    "You> Consider it done\n",
    "\n",
    "Senior officer> Excellent\n",
    "\n",
    "## Your first program\n",
    "\n",
    "To create this program you will need to use the concepts you'been taught in the last module. You will use Jupyter Notebook in this exercise, which is a combination text and code you can interact with. Finish the code below to make it output today's date."
   ],
   "metadata": {}
  },
  {
   "cell_type": "code",
   "execution_count": 1,
   "source": [
    "from datetime import date\n",
    "\n",
    "print(\"Today's date is: \")"
   ],
   "outputs": [
    {
     "output_type": "stream",
     "name": "stdout",
     "text": [
      "Today's date is: \n"
     ]
    }
   ],
   "metadata": {}
  },
  {
   "cell_type": "markdown",
   "source": [
    "> [!TIP]\n",
    "> Spend a few minutes trying to figure out a solution. Then scroll down to the bottom to see if you've managed build the program according to specifications\n",
    "\n",
    "## Build a unit converter\n",
    "\n",
    "Senior officer> I need one more thing, a converter program between parsec and lightyears. Having such a program could be really useful on the bridge plotting out our course.\n",
    "You> Will do !\n"
   ],
   "metadata": {}
  },
  {
   "cell_type": "code",
   "execution_count": 4,
   "source": [
    "parsec = 11\n",
    "\n",
    "lightyears = 0\n",
    "\n",
    "print(str(parsec) + \" parsec, is \" + str(lightyears) + \" lightyears\")"
   ],
   "outputs": [
    {
     "output_type": "stream",
     "name": "stdout",
     "text": [
      "11 parsec, is 35.877159999999996 lightyears\n"
     ]
    }
   ],
   "metadata": {}
  },
  {
   "cell_type": "markdown",
   "source": [
    "> [!TIP]\n",
    "> 1 parsec is 3.26156 lightyears, use the multiplication operator"
   ],
   "metadata": {}
  },
  {
   "cell_type": "markdown",
   "source": [
    "## Solutions\n",
    "\n",
    "Here's the solution for the first program:\n",
    "\n",
    "Solution:"
   ],
   "metadata": {}
  },
  {
   "cell_type": "code",
   "execution_count": 4,
   "source": [
    "from datetime import date\n",
    "\n",
    "print(\"Today's date is: \" + str(date.today()))"
   ],
   "outputs": [
    {
     "output_type": "stream",
     "name": "stdout",
     "text": [
      "Today's date is: 2021-10-05\n"
     ]
    }
   ],
   "metadata": {}
  },
  {
   "cell_type": "code",
   "execution_count": null,
   "source": [
    "parsec = 11\n",
    "lightyears = 3.26156 * parsec\n",
    "\n",
    "print(str(parsec) + \" parsec, is \" + str(lightyears) + \" lightyears\")"
   ],
   "outputs": [],
   "metadata": {}
  }
 ],
"metadata": {
   "kernelspec": {
     "name": "conda-env-py37_default-py",
     "language": "python",
     "display_name": "py37_default"
   },
   "language_info": {
     "name": "python",
     "version": "3.7.9",
     "mimetype": "text/x-python",
     "codemirror_mode": {
       "name": "ipython",
       "version": 3
     },
     "pygments_lexer": "ipython3",
     "nbconvert_exporter": "python",
     "file_extension": ".py"
   },
   "kernel_info": {
     "name": "conda-env-py37_default-py"
   },
  "orig_nbformat": 4
 },
 "nbformat": 4,
 "nbformat_minor": 2
}