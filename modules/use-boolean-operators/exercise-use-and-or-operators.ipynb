{
 "cells": [
  {
   "cell_type": "markdown",
   "metadata": {},
   "source": [
    "# Exercise: Using `and` and `or` operators\n",
    "\n",
    "In the previous exercise, we worked with `if`, `else`, and `elif` statements to write programs with complex conditional logic. To create even more interesting boolean expressions, you can use the `and` and `or` operators in Python. \n",
    "\n",
    "`And` expressions are only true if both sub-expressions are true. \n",
    "\n",
    "`expression1 and expression2`\n",
    "\n",
    "`Or` expressions are true if *at least* one sub-expression is true. \n",
    "\n",
    "`expression1 or expression2`\n",
    "\n",
    "For this exercise, we'll learn more nuanced information about when asteroids are dangerous to earth, and use that information to improve our warning system. Here's the new information you need to know:\n",
    "\n",
    "* Asteroids smaller than 25 meters will most likely burn up as they enter the Earth's atmosphere. \n",
    "* If a piece of an asteroid larger than 25 meters but smaller than 1000 meters were to hit Earth, it would cause a lot of damage. \n",
    "\n",
    "Remember that in the last exercise, we also discussed that:\n",
    "\n",
    "* Asteroid speed varies based on how close it is to the sun, and anything greater than 25 km/s merits a warning.\n",
    "* If an asteroid enters Earth's atmosphere at a speed greater than or equal to 20 km/s, it sometimes produces a streak of light that can be seen from Earth.\n",
    "\n",
    "Using all of this information, write a program that will issue the correct warning or information to the people of earth, based on an asteroid's speed and size. Remember to use `if`, `else`, and `elif` statements, as well as the `and` and `or` operators. \n",
    "\n"
   ]
  },
  {
   "cell_type": "code",
   "execution_count": 3,
   "metadata": {},
   "outputs": [
    {
     "name": "stdout",
     "output_type": "stream",
     "text": [
      "Look up! There's a magical light in the sky!\n"
     ]
    }
   ],
   "source": [
    "# Add the code to create new variables for asteroid speed and size\n",
    "# To test your code, try out various speeds and sizes\n",
    "# Write multiple test expressions, or combinations of test expressions to determine what message should be sent to earth\n",
    "\n",
    "asteroid_speed = 25\n",
    "asteroid_size = 40\n",
    "if asteroid_speed > 25 and asteroid_size > 25:\n",
    "    print(\"Alert! A very dangerous asteroid is coming towards Earth!\")\n",
    "elif asteroid_speed >= 20:\n",
    "    print(\"Look up! There's a magical light in the sky!\")\n",
    "elif asteroid_size < 25:\n",
    "    print(\"Nothing to see here :)\")\n",
    "else:\n",
    "    print(\"Nothing to see here :)\")"
   ]
  },
  {
   "cell_type": "code",
   "execution_count": null,
   "metadata": {},
   "outputs": [],
   "source": []
  }
 ],
 "metadata": {
  "interpreter": {
   "hash": "aee8b7b246df8f9039afb4144a1f6fd8d2ca17a180786b69acc140d282b71a49"
  },
  "kernelspec": {
   "display_name": "Python 3.9.5 64-bit",
   "name": "python3"
  },
  "language_info": {
   "codemirror_mode": {
    "name": "ipython",
    "version": 3
   },
   "file_extension": ".py",
   "mimetype": "text/x-python",
   "name": "python",
   "nbconvert_exporter": "python",
   "pygments_lexer": "ipython3",
   "version": "3.9.5"
  },
  "orig_nbformat": 4
 },
 "nbformat": 4,
 "nbformat_minor": 2
}
