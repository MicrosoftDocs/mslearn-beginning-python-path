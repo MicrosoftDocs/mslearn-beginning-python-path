{
 "cells": [
  {
   "cell_type": "markdown",
   "metadata": {},
   "source": [
    "# Exercise: Writing if, else, and elif statements\n",
    "\n",
    "`If` statements allow you to conditionally execute Python code. They are commonly used in Python to \"make decisions\" about what should happen next while a program is running. \n",
    "\n",
    "To create an `if` statement in Python, define a test expression that can have a value of either `True` or `False`, followed by an indented block of code that will run if the condition is met. \n",
    "\n",
    "```python\n",
    "if test_expression:\n",
    "    # statement(s) to be executed\n",
    "```\n",
    "\n",
    "To write a program with more complex conditional logic, you can add `else` and `elif` statements to your code block. You can also nest conditional statements. \n",
    "\n",
    "```python\n",
    "if test_expression:\n",
    "    # statement(s) to be executed\n",
    "    if test_expression:\n",
    "        # statement(s) to be executed\n",
    "    else: \n",
    "        # statement(s) to be executed\n",
    "elif test_expression:\n",
    "    # statement(s) to be executed\n",
    "else:\n",
    "    # statement(s) to be executed\n",
    "```\n",
    "\n",
    "\n",
    "For this exercise, you will write conditional logic that prints a warning if an asteroid is coming towards the Earth too quickly. Asteroid speed varies based on how close it is to the sun, and anything greater than 25 km/s merits a warning. \n",
    "\n",
    "There is an asteroid approaching that is traveling at a speed of 49 km/s."
   ]
  },
  {
   "cell_type": "code",
   "execution_count": 2,
   "metadata": {},
   "outputs": [
    {
     "name": "stdout",
     "output_type": "stream",
     "text": [
      "Warning! An asteroid is approaching at dangerous speeds!\n"
     ]
    }
   ],
   "source": [
    "# Add the code to create a new variable for the first asteroid's speed\n",
    "# Write a test expression to calculate whether or not it needs a warning\n",
    "# Add the statement(s) that will be executed if the test expression is True or False\n",
    "\n",
    "asteroid = 49\n",
    "if asteroid > 25:\n",
    "    print(\"Warning! An asteroid is approaching at dangerous speeds!\")\n",
    "else:\n",
    "    print(\"Carry on with your day!\")"
   ]
  },
  {
   "cell_type": "markdown",
   "metadata": {},
   "source": [
    "If an asteroid enters Earth's atmosphere at a speed greater than or equal to 20 km/s, it sometimes produces a streak of light that can be seen from Earth. Write conditional logic using `if`, `else`, and `elif` statements that tells folks if they should look for it in the sky - there's one coming now at a speed of 19 km/s!\n"
   ]
  },
  {
   "cell_type": "code",
   "execution_count": 3,
   "metadata": {},
   "outputs": [
    {
     "name": "stdout",
     "output_type": "stream",
     "text": [
      "Nothing to see here!\n"
     ]
    }
   ],
   "source": [
    "# Add the code to create a new variable for an asteroid traveling at 19 km/s\n",
    "# Write multiple test expressions to determine whether you can see the light from earth\n",
    "# Add the statement(s) that will be executed if the test expressions are True or False\n",
    "\n",
    "asteroid = 19\n",
    "if asteroid > 20:\n",
    "    print(\"Look up! There's a magical light in the sky!\")\n",
    "elif asteroid == 20:\n",
    "    print(\"Look up! There's a magical light in the sky!\")\n",
    "else:\n",
    "    print(\"Nothing to see here!\")"
   ]
  }
 ],
 "metadata": {
  "interpreter": {
   "hash": "aee8b7b246df8f9039afb4144a1f6fd8d2ca17a180786b69acc140d282b71a49"
  },
  "kernelspec": {
   "display_name": "Python 3.9.5 64-bit",
   "name": "python3"
  },
  "language_info": {
   "codemirror_mode": {
    "name": "ipython",
    "version": 3
   },
   "file_extension": ".py",
   "mimetype": "text/x-python",
   "name": "python",
   "nbconvert_exporter": "python",
   "pygments_lexer": "ipython3",
   "version": "3.9.5"
  },
  "orig_nbformat": 4
 },
 "nbformat": 4,
 "nbformat_minor": 2
}
