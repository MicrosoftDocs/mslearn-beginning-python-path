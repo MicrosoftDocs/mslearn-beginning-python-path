{
 "cells": [
  {
   "cell_type": "markdown",
   "source": [
    "# Calculating values\n",
    "\n",
    "In this scenario, you will calculate both the total number of moons in the solar system and the average number of moons a planet has."
   ],
   "metadata": {}
  },
  {
   "cell_type": "code",
   "execution_count": 1,
   "source": [
    "# Planets and moons\n",
    "\n",
    "planet_moons = {\n",
    "    'mercury': 0,\n",
    "    'venus': 0,\n",
    "    'earth': 1,\n",
    "    'mars': 2,\n",
    "    'jupiter': 79,\n",
    "    'saturn': 82,\n",
    "    'uranus': 27,\n",
    "    'neptune': 14,\n",
    "    'pluto': 5,\n",
    "    'haumea': 2,\n",
    "    'makemake': 1,\n",
    "    'eris': 1\n",
    "}"
   ],
   "outputs": [],
   "metadata": {}
  },
  {
   "cell_type": "markdown",
   "source": [
    "Python dictionaries allow you to retrieve all the values and keys by using the `values` and `keys` methods respectively. Each method returns a list containing the data, which can then be used like a regular Python list. You can determine the number of items by using `len`, and iterate through it by using `for` loops.\n",
    "\n",
    "In the cell below, using the comment hints, add the necessary code to determine the average GPA for the student. For this example, we will divide the total GPA by the number of years."
   ],
   "metadata": {}
  },
  {
   "cell_type": "code",
   "execution_count": 4,
   "source": [
    "# Add the code to determine the number of moons\n",
    "\n",
    "# Obtain the list of moons\n",
    "# Store the results in a variable named grades\n",
    "moons = planet_moons.values()\n",
    "\n",
    "# Obtain the total number of planets\n",
    "# Store the results in a variable named years\n",
    "planets = len(planet_moons.keys())\n",
    "\n",
    "# Calculate the total by adding all the moons\n",
    "# Store the value in a variable named total\n",
    "total = 0\n",
    "for moon in moons:\n",
    "    total = total + moon\n",
    "\n",
    "# Calculate the average by dividing the total by the number of years\n",
    "average = total / planets\n",
    "\n",
    "# Print the average\n",
    "print(average)"
   ],
   "outputs": [
    {
     "output_type": "stream",
     "name": "stdout",
     "text": [
      "17.833333333333332\n"
     ]
    }
   ],
   "metadata": {}
  }
 ],
 "metadata": {
  "orig_nbformat": 4,
  "language_info": {
   "name": "python",
   "version": "3.8.10",
   "mimetype": "text/x-python",
   "codemirror_mode": {
    "name": "ipython",
    "version": 3
   },
   "pygments_lexer": "ipython3",
   "nbconvert_exporter": "python",
   "file_extension": ".py"
  },
  "kernelspec": {
   "name": "python3",
   "display_name": "Python 3.8.10 64-bit"
  },
  "interpreter": {
   "hash": "916dbcbb3f70747c44a77c7bcd40155683ae19c65e1c03b4aa3499c5328201f1"
  }
 },
 "nbformat": 4,
 "nbformat_minor": 2
}