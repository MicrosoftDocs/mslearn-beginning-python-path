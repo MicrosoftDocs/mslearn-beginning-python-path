{
 "cells": [
  {
   "cell_type": "markdown",
   "source": [
    "# Exercise: Working with arguments in functions\n",
    "\n",
    "Required arguments in functions are used when the function needs those arguments to function properly. In this exercise you'll construct a rocket ship fuel report which requires information from several fuel locations throughout the rocket ship.\n",
    "\n"
   ],
   "metadata": {}
  },
  {
   "cell_type": "markdown",
   "source": [
    "Start by creating a function that needs the three fuel readings and returns a report:"
   ],
   "metadata": {}
  },
  {
   "cell_type": "code",
   "execution_count": 4,
   "source": [
    "def generate_report(main_tank, external_tank, hydrogen_tank):\n",
    "    total_average = (main_tank + external_tank + hydrogen_tank) / 3\n",
    "    return f\"\"\"Fuel Report:\n",
    "    Total Average: {total_average}%\n",
    "    Main tank: {main_tank}%\n",
    "    External tank: {external_tank}%\n",
    "    Hydrogen tank: {hydrogen_tank}% \n",
    "    \"\"\"\n"
   ],
   "outputs": [],
   "metadata": {}
  },
  {
   "cell_type": "markdown",
   "source": [
    "Now that we've defined the reporting function, let's check on it. For this mission, the tanks are not full:"
   ],
   "metadata": {}
  },
  {
   "cell_type": "code",
   "execution_count": 5,
   "source": [
    "print(generate_report(80, 70, 85))"
   ],
   "outputs": [
    {
     "output_type": "stream",
     "name": "stdout",
     "text": [
      "Fuel Report:\n",
      "    Total Average: 78.33333333333333%\n",
      "    Main tank: 80%\n",
      "    External tank: 70%\n",
      "    Hydrogen tank: 85% \n",
      "    \n"
     ]
    }
   ],
   "metadata": {}
  },
  {
   "cell_type": "markdown",
   "source": [
    "Instead of just creating the report, the function is also calculating the average. Improve the readability by extracting the average calculation out of the function into a new function so that the average can be done independently"
   ],
   "metadata": {}
  },
  {
   "cell_type": "code",
   "execution_count": 9,
   "source": [
    "def average(values):\n",
    "    total = sum(values)\n",
    "    number_of_items = len(values)\n",
    "    return total / number_of_items\n",
    "\n",
    "# Test the averaging function with a list of integers:\n",
    "average([80, 85, 81]) "
   ],
   "outputs": [
    {
     "output_type": "execute_result",
     "data": {
      "text/plain": [
       "82.0"
      ]
     },
     "metadata": {},
     "execution_count": 9
    }
   ],
   "metadata": {}
  },
  {
   "cell_type": "markdown",
   "source": [
    "Now update the reporting function to call the new average helper\n"
   ],
   "metadata": {}
  },
  {
   "cell_type": "code",
   "execution_count": 12,
   "source": [
    "def generate_report(main_tank, external_tank, hydrogen_tank):\n",
    "    return f\"\"\"Fuel Report:\n",
    "    Total Average: {average([main_tank, external_tank, hydrogen_tank])}%\n",
    "    Main tank: {main_tank}%\n",
    "    External tank: {external_tank}%\n",
    "    Hydrogen tank: {hydrogen_tank}% \n",
    "    \"\"\"\n",
    "\n",
    "# Call the updated function again with different values\n",
    "print(generate_report(88, 76, 70))"
   ],
   "outputs": [
    {
     "output_type": "stream",
     "name": "stdout",
     "text": [
      "Fuel Report:\n",
      "    Total Average: 78.0%\n",
      "    Main tank: 88%\n",
      "    External tank: 76%\n",
      "    Hydrogen tank: 70% \n",
      "    \n"
     ]
    }
   ],
   "metadata": {}
  }
 ],
 "metadata": {
  "orig_nbformat": 4,
  "language_info": {
   "name": "python",
   "version": "3.8.10",
   "mimetype": "text/x-python",
   "codemirror_mode": {
    "name": "ipython",
    "version": 3
   },
   "pygments_lexer": "ipython3",
   "nbconvert_exporter": "python",
   "file_extension": ".py"
  },
  "kernelspec": {
   "name": "python3",
   "display_name": "Python 3.8.10 64-bit ('tmp': conda)"
  },
  "interpreter": {
   "hash": "205095b8b86ea82a021a8fc2ffba2b3bc9f8d0be25999901963b225939f75778"
  }
 },
 "nbformat": 4,
 "nbformat_minor": 2
}