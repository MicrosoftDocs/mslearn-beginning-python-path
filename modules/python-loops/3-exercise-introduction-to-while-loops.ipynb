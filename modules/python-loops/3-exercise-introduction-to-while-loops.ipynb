{
 "cells": [
  {
   "cell_type": "markdown",
   "metadata": {},
   "source": [
    "# While loops\n",
    "\n",
    "While loops in Python allow you to run code an unknown number of times. They examine a Boolean condition, and if it's true the code inside the loop will run. This is very useful for situations like prompting a user for values.\n",
    "\n",
    "You are creating an application to prompt a user for a list of planets. In a later exercise you will add the code to display the list. For now you will just create the code for prompting the user.\n",
    "\n",
    "Start by adding two variables - one for the input from the user named `new_planet`, and another for the list of planets named `planets`."
   ]
  },
  {
   "cell_type": "code",
   "execution_count": 1,
   "metadata": {},
   "outputs": [],
   "source": [
    "new_planet = ''\n",
    "planets = []"
   ]
  },
  {
   "cell_type": "markdown",
   "metadata": {},
   "source": [
    "## Create the while loop\n",
    "\n",
    "With the variables created, you will create the `while` loop. The `while` loop will run while `new_planet` is **not** set to **done**.\n",
    "\n",
    "Inside the loop, you will check if `new_planet` contains a value. This is a quick way to see if the user has entered a value. If they have, you will `append` it to `planets`.\n",
    "\n",
    "Finally, you will use `input` to prompt the user for a new planet or to use **done** if they are done. You will store the value from `input` in `new_planet`."
   ]
  },
  {
   "cell_type": "code",
   "execution_count": 2,
   "metadata": {},
   "outputs": [],
   "source": [
    "while new_planet.lower() != 'done':\n",
    "    if new_planet:\n",
    "        planets.append(new_planet)\n",
    "    new_planet = input('Enter a new planet ')"
   ]
  }
 ],
 "metadata": {
  "interpreter": {
   "hash": "916dbcbb3f70747c44a77c7bcd40155683ae19c65e1c03b4aa3499c5328201f1"
  },
  "kernelspec": {
   "display_name": "Python 3.8.10 64-bit",
   "language": "python",
   "name": "python3"
  },
  "language_info": {
   "codemirror_mode": {
    "name": "ipython",
    "version": 3
   },
   "file_extension": ".py",
   "mimetype": "text/x-python",
   "name": "python",
   "nbconvert_exporter": "python",
   "pygments_lexer": "ipython3",
   "version": "3.8.10"
  },
  "orig_nbformat": 4
 },
 "nbformat": 4,
 "nbformat_minor": 2
}
