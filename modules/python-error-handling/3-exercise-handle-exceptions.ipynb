{
 "cells": [
  {
   "cell_type": "markdown",
   "source": [
    "## Exercise: Handling Exceptions\n",
    "With the knowledge of tracebacks and how exceptions are raised and handled, it is time to practice some of these concepts using this notebook. We'll use a similar scenario where a program must read a configuration file called _config.txt_ and deal with errors as they show up.\n",
    "\n",
    "In real-world scenarios, exceptions are more clearly deal with separate functions, so this exercise will have different functions for different tasks regarding the configuration file."
   ],
   "metadata": {}
  },
  {
   "cell_type": "code",
   "execution_count": 1,
   "source": [
    "# Create a function that opens and reads the contents of the configuration file first\n",
    "# Allow the function to accept a path. This will become handy later\n",
    "def read_config(path):\n",
    "    with open(path) as config_path:\n",
    "        return config_path.readlines()"
   ],
   "outputs": [],
   "metadata": {}
  },
  {
   "cell_type": "code",
   "execution_count": 22,
   "source": [
    "# To mimic a brand-new environment, define a temporary directory that will act as the normal destination for the configuration file\n",
    "# In this way, we prevent polluting the current notebook environment\n",
    "import tempfile\n",
    "import os \n",
    "\n",
    "# Create the temporary directory\n",
    "config_dir = tempfile.mkdtemp()\n",
    "config_path = os.path.join(config_dir, \"config.txt\")\n",
    "print(config_dir)\n",
    "print(config_path)"
   ],
   "outputs": [
    {
     "output_type": "stream",
     "name": "stdout",
     "text": [
      "/var/folders/nk/r3v6ztqj761035fb_f59wd8m0000gn/T/tmp6czyaczv\n",
      "/var/folders/nk/r3v6ztqj761035fb_f59wd8m0000gn/T/tmp6czyaczv/config.txt\n"
     ]
    }
   ],
   "metadata": {}
  },
  {
   "cell_type": "code",
   "execution_count": 23,
   "source": [
    "# Now try reading the newly defined config.txt path\n",
    "read_config(config_path)"
   ],
   "outputs": [
    {
     "output_type": "error",
     "ename": "FileNotFoundError",
     "evalue": "[Errno 2] No such file or directory: '/var/folders/nk/r3v6ztqj761035fb_f59wd8m0000gn/T/tmp6czyaczv/config.txt'",
     "traceback": [
      "\u001b[0;31m---------------------------------------------------------------------------\u001b[0m",
      "\u001b[0;31mFileNotFoundError\u001b[0m                         Traceback (most recent call last)",
      "\u001b[0;32m/var/folders/nk/r3v6ztqj761035fb_f59wd8m0000gn/T/ipykernel_48138/3890335293.py\u001b[0m in \u001b[0;36m<module>\u001b[0;34m\u001b[0m\n\u001b[1;32m      1\u001b[0m \u001b[0;31m# Now try reading the newly defined config.txt path\u001b[0m\u001b[0;34m\u001b[0m\u001b[0;34m\u001b[0m\u001b[0;34m\u001b[0m\u001b[0m\n\u001b[0;32m----> 2\u001b[0;31m \u001b[0mread_config\u001b[0m\u001b[0;34m(\u001b[0m\u001b[0mconfig_path\u001b[0m\u001b[0;34m)\u001b[0m\u001b[0;34m\u001b[0m\u001b[0;34m\u001b[0m\u001b[0m\n\u001b[0m",
      "\u001b[0;32m/var/folders/nk/r3v6ztqj761035fb_f59wd8m0000gn/T/ipykernel_48138/3064444193.py\u001b[0m in \u001b[0;36mread_config\u001b[0;34m(path)\u001b[0m\n\u001b[1;32m      2\u001b[0m \u001b[0;31m# Allow the function to accept a path. This will become handy later\u001b[0m\u001b[0;34m\u001b[0m\u001b[0;34m\u001b[0m\u001b[0;34m\u001b[0m\u001b[0m\n\u001b[1;32m      3\u001b[0m \u001b[0;32mdef\u001b[0m \u001b[0mread_config\u001b[0m\u001b[0;34m(\u001b[0m\u001b[0mpath\u001b[0m\u001b[0;34m)\u001b[0m\u001b[0;34m:\u001b[0m\u001b[0;34m\u001b[0m\u001b[0;34m\u001b[0m\u001b[0m\n\u001b[0;32m----> 4\u001b[0;31m     \u001b[0;32mwith\u001b[0m \u001b[0mopen\u001b[0m\u001b[0;34m(\u001b[0m\u001b[0mpath\u001b[0m\u001b[0;34m)\u001b[0m \u001b[0;32mas\u001b[0m \u001b[0mconfig_path\u001b[0m\u001b[0;34m:\u001b[0m\u001b[0;34m\u001b[0m\u001b[0;34m\u001b[0m\u001b[0m\n\u001b[0m\u001b[1;32m      5\u001b[0m         \u001b[0;32mreturn\u001b[0m \u001b[0mconfig_path\u001b[0m\u001b[0;34m.\u001b[0m\u001b[0mreadlines\u001b[0m\u001b[0;34m(\u001b[0m\u001b[0;34m)\u001b[0m\u001b[0;34m\u001b[0m\u001b[0;34m\u001b[0m\u001b[0m\n",
      "\u001b[0;31mFileNotFoundError\u001b[0m: [Errno 2] No such file or directory: '/var/folders/nk/r3v6ztqj761035fb_f59wd8m0000gn/T/tmp6czyaczv/config.txt'"
     ]
    }
   ],
   "metadata": {}
  },
  {
   "cell_type": "markdown",
   "source": [
    "A `FileNotFoundError`! In this case, we want to ensure that when there is no configuration file, a default configuration file is created with some basic values. Before catching exceptions, create another function that writes the default values for the configuration file"
   ],
   "metadata": {}
  },
  {
   "cell_type": "code",
   "execution_count": 24,
   "source": [
    "import uuid\n",
    "\n",
    "default_config_contents = f\"\"\"# Rocket Ship Configuration File!\n",
    "fuel_tanks = 4\n",
    "oxygen_tanks = 3\n",
    "initial_propulsing_level = 84\n",
    "unique_key = {uuid.uuid4()}\"\"\"\n",
    "\n",
    "def write_default_config(path):\n",
    "    with open(path, 'w') as default_config:\n",
    "        default_config.write(default_config_contents)"
   ],
   "outputs": [],
   "metadata": {}
  },
  {
   "cell_type": "markdown",
   "source": [
    "Now you have a `read_config()` function that will get the contents of the config file, a `write_default_config()` function that will write the default contents to a config file, so now you are ready to define the `main()` function that puts everything together. \n",
    "\n",
    "Write it up so that you can catch and handle the `FileNotFoundError` from before: "
   ],
   "metadata": {}
  },
  {
   "cell_type": "code",
   "execution_count": 16,
   "source": [
    "def main():\n",
    "    try:\n",
    "        config_contents = read_config(config_path)\n",
    "    except FileNotFoundError:\n",
    "        write_default_config(config_path)\n",
    "        config_contents = read_config(config_path)\n",
    "    # Output the contents to verify all worked fine\n",
    "    print(config_contents)\n",
    "    \n",
    "main()\n",
    "    "
   ],
   "outputs": [
    {
     "output_type": "stream",
     "name": "stdout",
     "text": [
      "['fuel_tanks = 4\\n', 'oxygen_tanks = 3\\n', 'initial_propulsing_level = 84\\n', 'unique_key = 5a468ff2-96b1-4218-ba26-0400c49a5142']\n"
     ]
    }
   ],
   "metadata": {}
  },
  {
   "cell_type": "markdown",
   "source": [
    "The `main()` function now handles the `FileNotFoundError` and creates one by default with some contents. But so far all we have is a list with contents which is not that useful. Add a parser function that reads the values and creates a Python dictionary. Make the `main()` function output the dictionary after the parsing."
   ],
   "metadata": {}
  },
  {
   "cell_type": "code",
   "execution_count": 19,
   "source": [
    "def parse_config(contents):\n",
    "    config = {}\n",
    "    for line in contents:\n",
    "        key, value = line.split('=')\n",
    "        config[key] = value\n",
    "    return config"
   ],
   "outputs": [],
   "metadata": {}
  },
  {
   "cell_type": "code",
   "execution_count": 25,
   "source": [
    "# Update the main() function to use the new parser\n",
    "def main():\n",
    "    try:\n",
    "        config_contents = read_config(config_path)\n",
    "    except FileNotFoundError:\n",
    "        write_default_config(config_path)\n",
    "        config_contents = read_config(config_path)\n",
    "    # Output the contents to verify all worked fine\n",
    "    print(parse_config(config_contents))\n",
    "    \n",
    "main()"
   ],
   "outputs": [
    {
     "output_type": "error",
     "ename": "ValueError",
     "evalue": "not enough values to unpack (expected 2, got 1)",
     "traceback": [
      "\u001b[0;31m---------------------------------------------------------------------------\u001b[0m",
      "\u001b[0;31mValueError\u001b[0m                                Traceback (most recent call last)",
      "\u001b[0;32m/var/folders/nk/r3v6ztqj761035fb_f59wd8m0000gn/T/ipykernel_48138/32029624.py\u001b[0m in \u001b[0;36m<module>\u001b[0;34m\u001b[0m\n\u001b[1;32m      9\u001b[0m     \u001b[0mprint\u001b[0m\u001b[0;34m(\u001b[0m\u001b[0mparse_config\u001b[0m\u001b[0;34m(\u001b[0m\u001b[0mconfig_contents\u001b[0m\u001b[0;34m)\u001b[0m\u001b[0;34m)\u001b[0m\u001b[0;34m\u001b[0m\u001b[0;34m\u001b[0m\u001b[0m\n\u001b[1;32m     10\u001b[0m \u001b[0;34m\u001b[0m\u001b[0m\n\u001b[0;32m---> 11\u001b[0;31m \u001b[0mmain\u001b[0m\u001b[0;34m(\u001b[0m\u001b[0;34m)\u001b[0m\u001b[0;34m\u001b[0m\u001b[0;34m\u001b[0m\u001b[0m\n\u001b[0m",
      "\u001b[0;32m/var/folders/nk/r3v6ztqj761035fb_f59wd8m0000gn/T/ipykernel_48138/32029624.py\u001b[0m in \u001b[0;36mmain\u001b[0;34m()\u001b[0m\n\u001b[1;32m      7\u001b[0m         \u001b[0mconfig_contents\u001b[0m \u001b[0;34m=\u001b[0m \u001b[0mread_config\u001b[0m\u001b[0;34m(\u001b[0m\u001b[0mconfig_path\u001b[0m\u001b[0;34m)\u001b[0m\u001b[0;34m\u001b[0m\u001b[0;34m\u001b[0m\u001b[0m\n\u001b[1;32m      8\u001b[0m     \u001b[0;31m# Output the contents to verify all worked fine\u001b[0m\u001b[0;34m\u001b[0m\u001b[0;34m\u001b[0m\u001b[0;34m\u001b[0m\u001b[0m\n\u001b[0;32m----> 9\u001b[0;31m     \u001b[0mprint\u001b[0m\u001b[0;34m(\u001b[0m\u001b[0mparse_config\u001b[0m\u001b[0;34m(\u001b[0m\u001b[0mconfig_contents\u001b[0m\u001b[0;34m)\u001b[0m\u001b[0;34m)\u001b[0m\u001b[0;34m\u001b[0m\u001b[0;34m\u001b[0m\u001b[0m\n\u001b[0m\u001b[1;32m     10\u001b[0m \u001b[0;34m\u001b[0m\u001b[0m\n\u001b[1;32m     11\u001b[0m \u001b[0mmain\u001b[0m\u001b[0;34m(\u001b[0m\u001b[0;34m)\u001b[0m\u001b[0;34m\u001b[0m\u001b[0;34m\u001b[0m\u001b[0m\n",
      "\u001b[0;32m/var/folders/nk/r3v6ztqj761035fb_f59wd8m0000gn/T/ipykernel_48138/3187556447.py\u001b[0m in \u001b[0;36mparse_config\u001b[0;34m(contents)\u001b[0m\n\u001b[1;32m      2\u001b[0m     \u001b[0mconfig\u001b[0m \u001b[0;34m=\u001b[0m \u001b[0;34m{\u001b[0m\u001b[0;34m}\u001b[0m\u001b[0;34m\u001b[0m\u001b[0;34m\u001b[0m\u001b[0m\n\u001b[1;32m      3\u001b[0m     \u001b[0;32mfor\u001b[0m \u001b[0mline\u001b[0m \u001b[0;32min\u001b[0m \u001b[0mcontents\u001b[0m\u001b[0;34m:\u001b[0m\u001b[0;34m\u001b[0m\u001b[0;34m\u001b[0m\u001b[0m\n\u001b[0;32m----> 4\u001b[0;31m         \u001b[0mkey\u001b[0m\u001b[0;34m,\u001b[0m \u001b[0mvalue\u001b[0m \u001b[0;34m=\u001b[0m \u001b[0mline\u001b[0m\u001b[0;34m.\u001b[0m\u001b[0msplit\u001b[0m\u001b[0;34m(\u001b[0m\u001b[0;34m'='\u001b[0m\u001b[0;34m)\u001b[0m\u001b[0;34m\u001b[0m\u001b[0;34m\u001b[0m\u001b[0m\n\u001b[0m\u001b[1;32m      5\u001b[0m         \u001b[0mconfig\u001b[0m\u001b[0;34m[\u001b[0m\u001b[0mkey\u001b[0m\u001b[0;34m]\u001b[0m \u001b[0;34m=\u001b[0m \u001b[0mvalue\u001b[0m\u001b[0;34m\u001b[0m\u001b[0;34m\u001b[0m\u001b[0m\n\u001b[1;32m      6\u001b[0m     \u001b[0;32mreturn\u001b[0m \u001b[0mconfig\u001b[0m\u001b[0;34m\u001b[0m\u001b[0;34m\u001b[0m\u001b[0m\n",
      "\u001b[0;31mValueError\u001b[0m: not enough values to unpack (expected 2, got 1)"
     ]
    }
   ],
   "metadata": {}
  },
  {
   "cell_type": "markdown",
   "source": [
    "Oh no, a `ValueError`. This is happening in the parser function. We now know we can handle this exception, but where? There are several functions involved and `main()` is currently handling exceptions. Where do you think this handling should happen?\n",
    "\n",
    "Where to handle exceptions can be non-straightforward. There is no particular rule in Python that helps here - you can handle an exception anywhere in code. You must use common sense and see what fits best. Remember that inadequate handling can always be improved later, as everything in code. \n",
    "\n",
    "In this particular case, handling the specifics of parsing a configuration file should probably be the responsibility of the parser itself, so that it can continue parsing the entire file while handling errors within the parsing."
   ],
   "metadata": {}
  },
  {
   "cell_type": "code",
   "execution_count": 27,
   "source": [
    "# update the parser to handle the ValueError\n",
    "def parse_config(contents):\n",
    "    config = {}\n",
    "    for line in contents:\n",
    "        try:\n",
    "            key, value = line.split('=')\n",
    "        except ValueError:\n",
    "            # completely ignore this error and skip to the next line\n",
    "            continue\n",
    "        config[key] = value\n",
    "    return config\n",
    "    \n",
    "# now call main() again and see if all is good now\n",
    "main()"
   ],
   "outputs": [
    {
     "output_type": "stream",
     "name": "stdout",
     "text": [
      "{'fuel_tanks ': ' 4\\n', 'oxygen_tanks ': ' 3\\n', 'initial_propulsing_level ': ' 84\\n', 'unique_key ': ' 1f14d837-0bbb-4bcb-a2a2-7093ced5b236'}\n"
     ]
    }
   ],
   "metadata": {}
  },
  {
   "cell_type": "markdown",
   "source": [
    "Almost there. Somehow, the keys have trailing spaces, and some values have newline characters in them. Clean those up in the `parse_config()` function"
   ],
   "metadata": {}
  },
  {
   "cell_type": "code",
   "execution_count": 34,
   "source": [
    "def parse_config(contents):\n",
    "    config = {}\n",
    "    for line in contents:\n",
    "        try:\n",
    "            key, value = line.split('=')\n",
    "        except ValueError:\n",
    "            # completely ignore this error and skip to the next line\n",
    "            continue\n",
    "        config[key.strip()] = value.strip('\\n').strip()\n",
    "    return config\n",
    "\n",
    "main()"
   ],
   "outputs": [
    {
     "output_type": "stream",
     "name": "stdout",
     "text": [
      "{'fuel_tanks': '4', 'oxygen_tanks': '3', 'initial_propulsing_level': '84', 'unique_key': '1f14d837-0bbb-4bcb-a2a2-7093ced5b236'}\n"
     ]
    }
   ],
   "metadata": {}
  },
  {
   "cell_type": "markdown",
   "source": [
    "Good job! Now you have a few functions, each handling exceptions in their own way. Some functions delegate the error handling when doing the work (like the parsing one) and others like the `main()` function handle the logic at a higher level."
   ],
   "metadata": {}
  }
 ],
 "metadata": {
  "orig_nbformat": 4,
  "language_info": {
   "name": "python",
   "version": "3.9.6",
   "mimetype": "text/x-python",
   "codemirror_mode": {
    "name": "ipython",
    "version": 3
   },
   "pygments_lexer": "ipython3",
   "nbconvert_exporter": "python",
   "file_extension": ".py"
  },
  "kernelspec": {
   "name": "python3",
   "display_name": "Python 3.9.6 64-bit ('tmp': virtualenv)"
  },
  "interpreter": {
   "hash": "4cc27f0c2a93286e74f8aa1707ad89c9442d41d18de69b2ad37fbbf6a3107a2a"
  }
 },
 "nbformat": 4,
 "nbformat_minor": 2
}