{
 "cells": [
  {
   "cell_type": "markdown",
   "source": [
    "## Exercise: Working with Exceptions\n",
    "\n",
    "There are a few patterns that exceptions allow when they are used effectively. In this exercise you'll ignore certain exceptions, fix problems where exceptions weren't used, and finally, you'll make a multi-function program work better by handling exceptions and making decisions based on errors.\n",
    "\n",
    "As a rocket ship engineer, you are being tasked to thoroughly test the various prompts from the navigational system. One of these prompts is the confirmation prompt. It is a function that takes in a string input and returns a boolean. For strings like `\"Yes\"` it will return `True`, and for string input like `\"No\"` it will return `False`. "
   ],
   "metadata": {}
  },
  {
   "cell_type": "code",
   "execution_count": 4,
   "source": [
    "def str_to_bool(value):\n",
    "    \"\"\"\n",
    "    Convert a string representation of truth to True or False\n",
    "    True values are '1', y', 'yes', or ''; case-insensitive\n",
    "    False values are '0', 'n', or 'no'; case-insensitive\n",
    "    \"\"\"\n",
    "    true_vals = ['yes', 'y', '', '1']\n",
    "    false_vals = ['no', 'n', '0']\n",
    "    if value in true_vals:\n",
    "        return True\n",
    "    else:\n",
    "         return False"
   ],
   "outputs": [],
   "metadata": {}
  },
  {
   "cell_type": "markdown",
   "source": [
    "The docstring in the function tells us that this function should work with case insensitive inputs like `\"YES\"`, try that out:"
   ],
   "metadata": {}
  },
  {
   "cell_type": "code",
   "execution_count": 5,
   "source": [
    "str_to_bool(\"YES\")"
   ],
   "outputs": [
    {
     "output_type": "execute_result",
     "data": {
      "text/plain": [
       "False"
      ]
     },
     "metadata": {},
     "execution_count": 5
    }
   ],
   "metadata": {}
  },
  {
   "cell_type": "markdown",
   "source": [
    "The function returns `False`, because nothing is ensuring case insensitive inputs. Fix that in the function by using `.lower()` method in the `value` input"
   ],
   "metadata": {}
  },
  {
   "cell_type": "code",
   "execution_count": 6,
   "source": [
    "def str_to_bool(value):\n",
    "    true_vals = ['yes', 'y', '', '1']\n",
    "    false_vals = ['no', 'n', '0']\n",
    "    if value.lower() in true_vals:\n",
    "        return True\n",
    "    else:\n",
    "         return False"
   ],
   "outputs": [],
   "metadata": {}
  },
  {
   "cell_type": "markdown",
   "source": [
    "Try it again with the same string to ensure that the function returns a `True`"
   ],
   "metadata": {}
  },
  {
   "cell_type": "code",
   "execution_count": 7,
   "source": [
    "str_to_bool(\"YES\")"
   ],
   "outputs": [
    {
     "output_type": "execute_result",
     "data": {
      "text/plain": [
       "True"
      ]
     },
     "metadata": {},
     "execution_count": 7
    }
   ],
   "metadata": {}
  },
  {
   "cell_type": "markdown",
   "source": [
    "Next, try using an integer. Although the function assumes strings as input, you think that an astronaut may input a number directly instead of using a string. Use `1` and see if it returns a `True`"
   ],
   "metadata": {}
  },
  {
   "cell_type": "code",
   "execution_count": 8,
   "source": [
    "str_to_bool(1)"
   ],
   "outputs": [
    {
     "output_type": "error",
     "ename": "AttributeError",
     "evalue": "'int' object has no attribute 'lower'",
     "traceback": [
      "\u001b[0;31m---------------------------------------------------------------------------\u001b[0m",
      "\u001b[0;31mAttributeError\u001b[0m                            Traceback (most recent call last)",
      "\u001b[0;32m/var/folders/nk/r3v6ztqj761035fb_f59wd8m0000gn/T/ipykernel_75392/2217938279.py\u001b[0m in \u001b[0;36m<module>\u001b[0;34m\u001b[0m\n\u001b[0;32m----> 1\u001b[0;31m \u001b[0mstr_to_bool\u001b[0m\u001b[0;34m(\u001b[0m\u001b[0;36m1\u001b[0m\u001b[0;34m)\u001b[0m\u001b[0;34m\u001b[0m\u001b[0;34m\u001b[0m\u001b[0m\n\u001b[0m",
      "\u001b[0;32m/var/folders/nk/r3v6ztqj761035fb_f59wd8m0000gn/T/ipykernel_75392/3707897955.py\u001b[0m in \u001b[0;36mstr_to_bool\u001b[0;34m(value)\u001b[0m\n\u001b[1;32m      2\u001b[0m     \u001b[0mtrue_vals\u001b[0m \u001b[0;34m=\u001b[0m \u001b[0;34m[\u001b[0m\u001b[0;34m'yes'\u001b[0m\u001b[0;34m,\u001b[0m \u001b[0;34m'y'\u001b[0m\u001b[0;34m,\u001b[0m \u001b[0;34m''\u001b[0m\u001b[0;34m,\u001b[0m \u001b[0;34m'1'\u001b[0m\u001b[0;34m]\u001b[0m\u001b[0;34m\u001b[0m\u001b[0;34m\u001b[0m\u001b[0m\n\u001b[1;32m      3\u001b[0m     \u001b[0mfalse_vals\u001b[0m \u001b[0;34m=\u001b[0m \u001b[0;34m[\u001b[0m\u001b[0;34m'no'\u001b[0m\u001b[0;34m,\u001b[0m \u001b[0;34m'n'\u001b[0m\u001b[0;34m,\u001b[0m \u001b[0;34m'0'\u001b[0m\u001b[0;34m]\u001b[0m\u001b[0;34m\u001b[0m\u001b[0;34m\u001b[0m\u001b[0m\n\u001b[0;32m----> 4\u001b[0;31m     \u001b[0;32mif\u001b[0m \u001b[0mvalue\u001b[0m\u001b[0;34m.\u001b[0m\u001b[0mlower\u001b[0m\u001b[0;34m(\u001b[0m\u001b[0;34m)\u001b[0m \u001b[0;32min\u001b[0m \u001b[0mtrue_vals\u001b[0m\u001b[0;34m:\u001b[0m\u001b[0;34m\u001b[0m\u001b[0;34m\u001b[0m\u001b[0m\n\u001b[0m\u001b[1;32m      5\u001b[0m         \u001b[0;32mreturn\u001b[0m \u001b[0;32mTrue\u001b[0m\u001b[0;34m\u001b[0m\u001b[0;34m\u001b[0m\u001b[0m\n\u001b[1;32m      6\u001b[0m     \u001b[0;32melse\u001b[0m\u001b[0;34m:\u001b[0m\u001b[0;34m\u001b[0m\u001b[0;34m\u001b[0m\u001b[0m\n",
      "\u001b[0;31mAttributeError\u001b[0m: 'int' object has no attribute 'lower'"
     ]
    }
   ],
   "metadata": {}
  },
  {
   "cell_type": "markdown",
   "source": [
    "An attribute error! This means that the integer doesn't have a `.lower()` method. Instead of making this function grow bigger, use a new function to enforce a lower case string returns"
   ],
   "metadata": {}
  },
  {
   "cell_type": "code",
   "execution_count": 9,
   "source": [
    "def as_lower_string(value):\n",
    "    try:\n",
    "        return value.lower()\n",
    "    except AttributeError:\n",
    "        return str(value).lower()\n"
   ],
   "outputs": [],
   "metadata": {}
  },
  {
   "cell_type": "markdown",
   "source": [
    "Now update the `str_to_bool()` function to use the newly added helper that catches `AttributeError` and handles it by enforcing a call to `str()` which in turn, makes sure that an integer like `1` would be converted to `\"1\"`. Catching `AttributeError` will prevent breaking the code and showing an unnecessary traceback in the output."
   ],
   "metadata": {}
  },
  {
   "cell_type": "code",
   "execution_count": 13,
   "source": [
    "def str_to_bool(value):\n",
    "    true_vals = ['yes', 'y', '', '1']\n",
    "    false_vals = ['no', 'n', '0']\n",
    "    value = as_lower_string(value)\n",
    "    if value in true_vals:\n",
    "        return True\n",
    "    else:\n",
    "         return False"
   ],
   "outputs": [],
   "metadata": {}
  },
  {
   "cell_type": "code",
   "execution_count": 11,
   "source": [
    "# test it again with 1\n",
    "str_to_bool(1)"
   ],
   "outputs": [
    {
     "output_type": "execute_result",
     "data": {
      "text/plain": [
       "True"
      ]
     },
     "metadata": {},
     "execution_count": 11
    }
   ],
   "metadata": {}
  },
  {
   "cell_type": "markdown",
   "source": [
    "While testing, you had problems with the keyboard, and when pressing `1`, a `2` appeared instead. Try that input out:"
   ],
   "metadata": {}
  },
  {
   "cell_type": "code",
   "execution_count": 15,
   "source": [
    "str_to_bool(2)"
   ],
   "outputs": [
    {
     "output_type": "execute_result",
     "data": {
      "text/plain": [
       "False"
      ]
     },
     "metadata": {},
     "execution_count": 15
    }
   ],
   "metadata": {}
  },
  {
   "cell_type": "markdown",
   "source": [
    "`False` is not correct here, because `\"2\"` is not part of the false values. Update the function to check if the value is in the false list "
   ],
   "metadata": {}
  },
  {
   "cell_type": "code",
   "execution_count": 17,
   "source": [
    "def str_to_bool(value):\n",
    "    true_vals = ['yes', 'y', '', '1']\n",
    "    false_vals = ['no', 'n', '0']\n",
    "    value = as_lower_string(value)\n",
    "    if value in true_vals:\n",
    "        return True\n",
    "    elif value in false_vals:\n",
    "         return False"
   ],
   "outputs": [],
   "metadata": {}
  },
  {
   "cell_type": "code",
   "execution_count": 18,
   "source": [
    "# This doesn't solve the problem, because using `2` now returns a `None`!\n",
    "print(str_to_bool(2))"
   ],
   "outputs": [
    {
     "output_type": "stream",
     "name": "stdout",
     "text": [
      "None\n"
     ]
    }
   ],
   "metadata": {}
  },
  {
   "cell_type": "markdown",
   "source": [
    "This is a tricky problem. A `2` shouldn't be a `True` nor a `False` and most definitely shouldn't be a `None`, what we need here is to raise an exception to signal that other consumers of this function that this is not acceptable input to deal with. Use the `ValueError()` exception to accomplish that:"
   ],
   "metadata": {}
  },
  {
   "cell_type": "code",
   "execution_count": 20,
   "source": [
    "def str_to_bool(value):\n",
    "    true_vals = ['yes', 'y', '', '1']\n",
    "    false_vals = ['no', 'n', '0']\n",
    "    value = as_lower_string(value)\n",
    "    if value in true_vals:\n",
    "        return True\n",
    "    elif value in false_vals:\n",
    "         return False\n",
    "    else:\n",
    "        raise ValueError(f\"Invalid input value: {value}\")"
   ],
   "outputs": [],
   "metadata": {}
  },
  {
   "cell_type": "code",
   "execution_count": 21,
   "source": [
    "# Run again with 2 to get a ValueError!\n",
    "str_to_bool(2)"
   ],
   "outputs": [
    {
     "output_type": "error",
     "ename": "ValueError",
     "evalue": "Invalid input value: 2",
     "traceback": [
      "\u001b[0;31m---------------------------------------------------------------------------\u001b[0m",
      "\u001b[0;31mValueError\u001b[0m                                Traceback (most recent call last)",
      "\u001b[0;32m/var/folders/nk/r3v6ztqj761035fb_f59wd8m0000gn/T/ipykernel_75392/1939857783.py\u001b[0m in \u001b[0;36m<module>\u001b[0;34m\u001b[0m\n\u001b[1;32m      1\u001b[0m \u001b[0;31m# Run again with 2\u001b[0m\u001b[0;34m\u001b[0m\u001b[0;34m\u001b[0m\u001b[0;34m\u001b[0m\u001b[0m\n\u001b[0;32m----> 2\u001b[0;31m \u001b[0mstr_to_bool\u001b[0m\u001b[0;34m(\u001b[0m\u001b[0;36m2\u001b[0m\u001b[0;34m)\u001b[0m\u001b[0;34m\u001b[0m\u001b[0;34m\u001b[0m\u001b[0m\n\u001b[0m",
      "\u001b[0;32m/var/folders/nk/r3v6ztqj761035fb_f59wd8m0000gn/T/ipykernel_75392/1795095750.py\u001b[0m in \u001b[0;36mstr_to_bool\u001b[0;34m(value)\u001b[0m\n\u001b[1;32m      8\u001b[0m          \u001b[0;32mreturn\u001b[0m \u001b[0;32mFalse\u001b[0m\u001b[0;34m\u001b[0m\u001b[0;34m\u001b[0m\u001b[0m\n\u001b[1;32m      9\u001b[0m     \u001b[0;32melse\u001b[0m\u001b[0;34m:\u001b[0m\u001b[0;34m\u001b[0m\u001b[0;34m\u001b[0m\u001b[0m\n\u001b[0;32m---> 10\u001b[0;31m         \u001b[0;32mraise\u001b[0m \u001b[0mValueError\u001b[0m\u001b[0;34m(\u001b[0m\u001b[0;34mf\"Invalid input value: {value}\"\u001b[0m\u001b[0;34m)\u001b[0m\u001b[0;34m\u001b[0m\u001b[0;34m\u001b[0m\u001b[0m\n\u001b[0m",
      "\u001b[0;31mValueError\u001b[0m: Invalid input value: 2"
     ]
    }
   ],
   "metadata": {}
  }
 ],
 "metadata": {
  "orig_nbformat": 4,
  "language_info": {
   "name": "python",
   "version": "3.8.10",
   "mimetype": "text/x-python",
   "codemirror_mode": {
    "name": "ipython",
    "version": 3
   },
   "pygments_lexer": "ipython3",
   "nbconvert_exporter": "python",
   "file_extension": ".py"
  },
  "kernelspec": {
   "name": "python3",
   "display_name": "Python 3.8.10 64-bit ('tmp': conda)"
  },
  "interpreter": {
   "hash": "205095b8b86ea82a021a8fc2ffba2b3bc9f8d0be25999901963b225939f75778"
  }
 },
 "nbformat": 4,
 "nbformat_minor": 2
}