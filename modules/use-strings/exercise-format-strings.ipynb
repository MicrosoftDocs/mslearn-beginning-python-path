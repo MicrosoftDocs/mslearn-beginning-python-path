{
    "cells": [
        {
            "cell_type": "markdown",
            "metadata": {},
            "source": [
                "Knowing how to format strings is useful when presenting information from a program. There are a few different ways to accomplish this in Python and in this exercise you will use variables that hold key facts about gravity on different moons and use them to format and print the information.\n",
                "\n",
                "The formatting will have to accommodate information from other moons, so it will need to be generic.\n",
                "\n",
                "Instead of replacing the variables in a long string as part of a paragraph, you will use the information to present it in a tabular format. The end result should look like:\n",
                "\n",
                "```\n",
                "Gravity Facts about Ganymede\n",
                "-------------------------------------------------------------------------------\n",
                "Planet Name: Mars\n",
                "Gravity on Ganymede: 1.4300000000000002 m/s2\n",
                "```"
            ]
        },
        {
            "cell_type": "code",
            "execution_count": null,
            "metadata": {},
            "outputs": [],
            "source": [
                "name = \"Moon\"\n",
                "gravity = 0.00162 # in kms\n",
                "planet = \"Earth\"\n"
            ]
        },
        {
            "cell_type": "markdown",
            "metadata": {},
            "source": [
                "First, create a title for the text. Since this is about gravity in Earth and the Moon, use those to create a meaningful title. Use the variables instead of writing"
            ]
        },
        {
            "cell_type": "code",
            "execution_count": null,
            "metadata": {},
            "outputs": [],
            "source": [
                "title = f\"gravity facts about {name}\""
            ]
        },
        {
            "cell_type": "markdown",
            "metadata": {},
            "source": [
                "Now create a multiline string template to hold the rest of the information. Instead of using kilometers you must convert to meters by multiplying by 1,000."
            ]
        },
        {
            "cell_type": "code",
            "execution_count": null,
            "metadata": {},
            "outputs": [],
            "source": [
                "facts = f\"\"\"{'-'*80}\n",
                "Planet Name: {planet}\n",
                "Gravity on {name}: {gravity * 1000} m/s2\n",
                "\"\"\""
            ]
        },
        {
            "cell_type": "markdown",
            "metadata": {},
            "source": [
                "Finally, use both variables to join the title and the facts"
            ]
        },
        {
            "cell_type": "code",
            "execution_count": null,
            "metadata": {},
            "outputs": [],
            "source": [
                "template = f\"\"\"{title.title()}\n",
                "{facts}\n",
                "\"\"\"\n",
                "print(template)"
            ]
        },
        {
            "cell_type": "markdown",
            "metadata": {},
            "source": [
                "Now use other information from a different moon and see if the template still works"
            ]
        },
        {
            "cell_type": "code",
            "execution_count": null,
            "metadata": {},
            "outputs": [],
            "source": [
                "planet = \"Mars\"\n",
                "name = \"Ganymede\"\n",
                "gravity = 0.00143"
            ]
        },
        {
            "cell_type": "code",
            "execution_count": null,
            "metadata": {},
            "outputs": [],
            "source": [
                "print(template)"
            ]
        },
        {
            "cell_type": "markdown",
            "metadata": {},
            "source": [
                "The output is not displaying anything about Mars, and it is instead using the Moon again. This happens because f-strings are eager in their evaluation so the variables assigned can't be re-assigned again. To workaround this issue, re-do the template to use `.format()`"
            ]
        },
        {
            "cell_type": "code",
            "execution_count": null,
            "metadata": {},
            "outputs": [],
            "source": [
                "new_template = \"\"\"\n",
                "Gravity Facts about {name}\n",
                "-------------------------------------------------------------------------------\n",
                "Planet Name: {planet}\n",
                "Gravity on {name}: {gravity} m/s2\n",
                "\"\"\"\n",
                "print(new_template.format(name=name, planet=planet, gravity=gravity))"
            ]
        },
        {
            "cell_type": "markdown",
            "metadata": {},
            "source": [
                "Because `.format()` doesn't allow expressions, the gravity on Ganymede is incorrect. Ensure that the operation is done outside of the formatting template and print again to see the working result"
            ]
        },
        {
            "cell_type": "code",
            "execution_count": null,
            "metadata": {},
            "outputs": [],
            "source": [
                "print(new_template.format(name=name, planet=planet, gravity=gravity*1000))"
            ]
        }
    ],
    "metadata": {
        "interpreter": {
            "hash": "f1def4e7b28f0aa772d4e2dc0e99e19e8069e00a185028040da01fd2d47a22ab"
        },
        "kernelspec": {
            "display_name": "Python 3.8.11 64-bit ('ml-for-beginners38': virtualenv)",
            "name": "python3"
        },
        "language_info": {
            "codemirror_mode": {
                "name": "ipython",
                "version": 3
            },
            "file_extension": ".py",
            "mimetype": "text/x-python",
            "name": "python",
            "nbconvert_exporter": "python",
            "pygments_lexer": "ipython3",
            "version": "3.8.11"
        },
        "orig_nbformat": 4
    },
    "nbformat": 4,
    "nbformat_minor": 2
}
