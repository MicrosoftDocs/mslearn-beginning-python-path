{
 "cells": [
  {
   "cell_type": "markdown",
   "metadata": {},
   "source": [
    "# Arithmetic operators in Python\n",
    "\n",
    "Python provides common arithmetic operators so you can perform mathematic operations in your code. These include the four core operations of addition, subtraction, multiplication and division.\n",
    "\n",
    "Let's explore how we can create a program which can calculate the distance between two planets. We will start by using two planet distances - Earth (149,597,870 KM) and Jupiter (778,547,200 KM).\n",
    "\n",
    "> **Note:** Remove the commas when using the values"
   ]
  },
  {
   "cell_type": "code",
   "execution_count": null,
   "metadata": {},
   "outputs": [],
   "source": [
    "# Create variables to store the two distances\n",
    "# Make sure you remove the commas!\n",
    "\n",
    "first_planet = 149597870\n",
    "second_planet = 778547200"
   ]
  },
  {
   "cell_type": "markdown",
   "metadata": {},
   "source": [
    "# Perform the operation\n",
    "\n",
    "With the values obtained, it's time to add the code to perform the operation. You will subtract the first planet from the second to determine the distance in KM. You can then convert the KM distance to miles by multiplying it by `1.609344`."
   ]
  },
  {
   "cell_type": "code",
   "execution_count": null,
   "metadata": {},
   "outputs": [],
   "source": [
    "# Calculate the difference between planets\n",
    "\n",
    "distance_km = second_planet - first_planet\n",
    "print(distance_km)\n",
    "\n",
    "distance_mi = distance_km * 1.609344\n",
    "print(distance_mi)"
   ]
  },
  {
   "cell_type": "markdown",
   "metadata": {},
   "source": [
    "# Test your project\n",
    "\n",
    "With the code created, run the notebook to get the result! You should receive the following:\n",
    "\n",
    "```\n",
    "628949330\n",
    "1012195830.53952\n",
    "```"
   ]
  }
 ],
 "metadata": {
  "interpreter": {
   "hash": "4f946df053fbf2b937619d3c5458e7af74262f9a954d8797ba0b27400bcafe06"
  },
  "kernelspec": {
   "display_name": "Python 3.8.6 64-bit",
   "language": "python",
   "name": "python3"
  },
  "language_info": {
   "codemirror_mode": {
    "name": "ipython",
    "version": 3
   },
   "file_extension": ".py",
   "mimetype": "text/x-python",
   "name": "python",
   "nbconvert_exporter": "python",
   "pygments_lexer": "ipython3",
   "version": "3.8.6"
  },
  "orig_nbformat": 4
 },
 "nbformat": 4,
 "nbformat_minor": 2
}
