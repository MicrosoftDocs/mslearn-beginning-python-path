{
 "cells": [
  {
   "cell_type": "markdown",
   "metadata": {},
   "source": [
    "# Creating an application to work with numbers and user input\n",
    "\n",
    "You will frequently need to convert string values into numbers to properly perform different operations, or determine the absolute value of a number.\n",
    "\n",
    "To create our application we want to read the distance from the sun for two planets, and then display the distance between the planets. We will do this by using `input` to read the values, `int` to convert to integer, and then `abs` to convert the result into its absolute value.\n",
    "\n",
    "## Read the values\n",
    "\n",
    "Add the code to read the distance from the sun for each planet from the user by using `input`."
   ]
  },
  {
   "cell_type": "code",
   "execution_count": 1,
   "metadata": {},
   "outputs": [],
   "source": [
    "# Store the entries from the user\n",
    "first_planet = input('Enter the distance from the sun for the first planet in KM')\n",
    "second_planet = input('Enter the distance from the sun for the second planet in KM')\n"
   ]
  },
  {
   "cell_type": "markdown",
   "metadata": {},
   "source": [
    "# Convert to number\n",
    "\n",
    "Because `input` returns string values we need to convert them to numbers. For our example we'll use `int`."
   ]
  },
  {
   "cell_type": "code",
   "execution_count": 2,
   "metadata": {},
   "outputs": [],
   "source": [
    "# Convert the values to integers\n",
    "first_planet = int(first_planet)\n",
    "second_planet = int(second_planet)"
   ]
  },
  {
   "cell_type": "markdown",
   "metadata": {},
   "source": [
    "# Perform the calculation and convert to absolute value\n",
    "\n",
    "With your values stored as numbers, you can now add the code to perform the calculation, subtracting the first planet from the second. Because the second planet might be a greater number, you'll add use `abs` to convert it to an absolute value. You'll also add the code to display the result in miles by multiplying the KM distance by `1.609344`."
   ]
  },
  {
   "cell_type": "code",
   "execution_count": null,
   "metadata": {},
   "outputs": [],
   "source": [
    "# Perform the calculation and determine the absolute value\n",
    "distance_km = second_planet - first_planet\n",
    "print(distance_km)\n",
    "\n",
    "# Convert from KM to Miles\n",
    "distance_mi = distance_km * 1.609344\n",
    "print(distance_mi)"
   ]
  },
  {
   "cell_type": "markdown",
   "metadata": {},
   "source": [
    "# Test your application\n",
    "\n",
    "To test your project, run the notebook. You will be prompted in a dialog box to provide the distances. You can use the ones from the table below:\n",
    "\n",
    "| Planet  | Distance form sun |\n",
    "| ------- | ----------------- |\n",
    "| Mercury | 57900000          |\n",
    "| Venus   | 108200000         |\n",
    "| Earth   | 149600000         |\n",
    "| Mars    | 227900000         |\n",
    "| Jupiter | 778600000         |\n",
    "| Saturn  | 1433500000        |\n",
    "| Uranus  | 2872500000        |\n",
    "| Neptune | 4495100000        |"
   ]
  }
 ],
 "metadata": {
  "interpreter": {
   "hash": "4f946df053fbf2b937619d3c5458e7af74262f9a954d8797ba0b27400bcafe06"
  },
  "kernelspec": {
   "display_name": "Python 3.8.6 64-bit",
   "language": "python",
   "name": "python3"
  },
  "language_info": {
   "codemirror_mode": {
    "name": "ipython",
    "version": 3
   },
   "file_extension": ".py",
   "mimetype": "text/x-python",
   "name": "python",
   "nbconvert_exporter": "python",
   "pygments_lexer": "ipython3",
   "version": "3.8.6"
  },
  "orig_nbformat": 4
 },
 "nbformat": 4,
 "nbformat_minor": 2
}
