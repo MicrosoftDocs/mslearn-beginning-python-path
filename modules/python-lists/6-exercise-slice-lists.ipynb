{
 "cells": [
  {
   "cell_type": "markdown",
   "metadata": {},
   "source": [
    "# Using slices to retrieve portions of a list\n",
    "\n",
    "You may need to work different sections of a list. In our example, we want to display planets closer and further away from the sun than a planet the user enters.\n",
    "\n",
    "Start by adding the code to create a list with the planets"
   ]
  },
  {
   "cell_type": "code",
   "execution_count": null,
   "metadata": {},
   "outputs": [],
   "source": [
    "planets = [\"Mercury\", \"Venus\", \"Earth\", \"Mars\", \"Jupiter\", \"Saturn\", \"Neptune\"]"
   ]
  },
  {
   "cell_type": "markdown",
   "metadata": {},
   "source": [
    "## Prompt the user for a planet name\n",
    "\n",
    "Next, add the code to prompt the user for a name. Because strings are case sensitive in Python, ask the user to use a capital letter to start the name of the planet."
   ]
  },
  {
   "cell_type": "code",
   "execution_count": null,
   "metadata": {},
   "outputs": [],
   "source": [
    "user_planet = input(\"Please enter the name of the planet (with a capital letter to start)\")"
   ]
  },
  {
   "cell_type": "markdown",
   "metadata": {},
   "source": [
    "## Find the planet in the list\n",
    "\n",
    "To determine which planets are closer than the one the user entered, you need to find where in the list the planet is. You can use `index` to perform this operation. Add the code to find the index of the planet."
   ]
  },
  {
   "cell_type": "code",
   "execution_count": null,
   "metadata": {},
   "outputs": [],
   "source": [
    "planet_index = planets.index(user_planet)"
   ]
  },
  {
   "cell_type": "markdown",
   "metadata": {},
   "source": [
    "## Display planets closer than the one the user entered\n",
    "\n",
    "With the index determined, you can now add the code to display planets closer to the sun."
   ]
  },
  {
   "cell_type": "code",
   "execution_count": null,
   "metadata": {},
   "outputs": [],
   "source": [
    "print(\"Here are the planets closer than \" + user_planet)\n",
    "print(planets[0:planet_index])"
   ]
  },
  {
   "cell_type": "markdown",
   "metadata": {},
   "source": [
    "## Display planets further from the sun than the one the user entered\n",
    "\n",
    "You can use the same index to display planets further from the sun. However, remember the starting index **is included** when using a slice. As a result, you will have to add 1 to the value. Add the code to display the planets further from the sun."
   ]
  },
  {
   "cell_type": "code",
   "execution_count": null,
   "metadata": {},
   "outputs": [],
   "source": [
    "print(\"Here are the planets further than \" + user_planet)\n",
    "print(planets[planet_index + 1:])"
   ]
  }
 ],
 "metadata": {
  "interpreter": {
   "hash": "4f946df053fbf2b937619d3c5458e7af74262f9a954d8797ba0b27400bcafe06"
  },
  "kernelspec": {
   "display_name": "Python 3.8.6 64-bit",
   "language": "python",
   "name": "python3"
  },
  "language_info": {
   "codemirror_mode": {
    "name": "ipython",
    "version": 3
   },
   "file_extension": ".py",
   "mimetype": "text/x-python",
   "name": "python",
   "nbconvert_exporter": "python",
   "pygments_lexer": "ipython3",
   "version": "3.8.6"
  },
  "orig_nbformat": 4
 },
 "nbformat": 4,
 "nbformat_minor": 2
}
